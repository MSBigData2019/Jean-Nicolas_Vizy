{
 "cells": [
  {
   "cell_type": "code",
   "execution_count": 4,
   "metadata": {},
   "outputs": [
    {
     "data": {
      "text/plain": [
       "'xxxxxxxxxx'"
      ]
     },
     "execution_count": 4,
     "metadata": {},
     "output_type": "execute_result"
    }
   ],
   "source": [
    "# Given a string and a non-negative int n, return a larger string\n",
    "# that is n copies of the original string.\n",
    "\n",
    "def string_times(string, n):\n",
    "    return string*n\n",
    "\n",
    "string_times('x',10)"
   ]
  },
  {
   "cell_type": "code",
   "execution_count": 6,
   "metadata": {},
   "outputs": [
    {
     "ename": "TypeError",
     "evalue": "'int' object is not iterable",
     "output_type": "error",
     "traceback": [
      "\u001b[1;31m---------------------------------------------------------------------------\u001b[0m",
      "\u001b[1;31mTypeError\u001b[0m                                 Traceback (most recent call last)",
      "\u001b[1;32m<ipython-input-6-d08ffa7b8579>\u001b[0m in \u001b[0;36m<module>\u001b[1;34m()\u001b[0m\n\u001b[0;32m     14\u001b[0m \u001b[0mx\u001b[0m\u001b[1;33m=\u001b[0m\u001b[1;33m[\u001b[0m\u001b[1;36m1\u001b[0m\u001b[1;33m,\u001b[0m\u001b[1;36m2\u001b[0m\u001b[1;33m,\u001b[0m\u001b[1;36m3\u001b[0m\u001b[1;33m,\u001b[0m\u001b[1;36m9\u001b[0m\u001b[1;33m]\u001b[0m\u001b[1;33m\u001b[0m\u001b[0m\n\u001b[0;32m     15\u001b[0m \u001b[1;33m\u001b[0m\u001b[0m\n\u001b[1;32m---> 16\u001b[1;33m \u001b[0marray_front9\u001b[0m\u001b[1;33m(\u001b[0m\u001b[0mx\u001b[0m\u001b[1;33m)\u001b[0m\u001b[1;33m\u001b[0m\u001b[0m\n\u001b[0m",
      "\u001b[1;32m<ipython-input-6-d08ffa7b8579>\u001b[0m in \u001b[0;36marray_front9\u001b[1;34m(nums)\u001b[0m\n\u001b[0;32m      2\u001b[0m \u001b[1;31m# in the array is a 9. The array length may be less than 4.\u001b[0m\u001b[1;33m\u001b[0m\u001b[1;33m\u001b[0m\u001b[0m\n\u001b[0;32m      3\u001b[0m \u001b[1;32mdef\u001b[0m \u001b[0marray_front9\u001b[0m\u001b[1;33m(\u001b[0m\u001b[0mnums\u001b[0m\u001b[1;33m)\u001b[0m\u001b[1;33m:\u001b[0m\u001b[1;33m\u001b[0m\u001b[0m\n\u001b[1;32m----> 4\u001b[1;33m     \u001b[0mlongueur\u001b[0m\u001b[1;33m=\u001b[0m\u001b[0mmin\u001b[0m\u001b[1;33m(\u001b[0m\u001b[0mlen\u001b[0m\u001b[1;33m(\u001b[0m\u001b[0mnums\u001b[0m\u001b[1;33m)\u001b[0m \u001b[1;33m&\u001b[0m \u001b[1;36m4\u001b[0m\u001b[1;33m)\u001b[0m\u001b[1;33m\u001b[0m\u001b[0m\n\u001b[0m\u001b[0;32m      5\u001b[0m     \u001b[0mc\u001b[0m \u001b[1;33m=\u001b[0m \u001b[1;36m0\u001b[0m\u001b[1;33m\u001b[0m\u001b[0m\n\u001b[0;32m      6\u001b[0m     \u001b[1;32mfor\u001b[0m \u001b[0mi\u001b[0m \u001b[1;32min\u001b[0m \u001b[0mrange\u001b[0m\u001b[1;33m(\u001b[0m\u001b[0mlongueur\u001b[0m\u001b[1;33m)\u001b[0m\u001b[1;33m:\u001b[0m\u001b[1;33m\u001b[0m\u001b[0m\n",
      "\u001b[1;31mTypeError\u001b[0m: 'int' object is not iterable"
     ]
    }
   ],
   "source": [
    "# Given an array of ints, return True if one of the first 4 elements\n",
    "# in the array is a 9. The array length may be less than 4.\n",
    "def array_front9(nums):\n",
    "    longueur=min(len(nums) & 4)\n",
    "    c = 0\n",
    "    for i in range(longueur):\n",
    "        if nums[i] ==9 :\n",
    "            c +=1\n",
    "    if c>=0:\n",
    "        return True\n",
    "    else:\n",
    "        return False\n",
    "\n",
    "x=[1,2,3,9]\n",
    "\n",
    "array_front9(x)"
   ]
  },
  {
   "cell_type": "code",
   "execution_count": null,
   "metadata": {},
   "outputs": [],
   "source": [
    "# Given a string, return the count of the number of times\n",
    "# that a substring length 2 appears  in the string and also as\n",
    "# the last 2 chars of the string, so \"hixxxhi\" yields 1 (we won't count the end substring).\n",
    "def last2(string):\n",
    "    return"
   ]
  },
  {
   "cell_type": "code",
   "execution_count": null,
   "metadata": {},
   "outputs": [],
   "source": [
    "#Write a proramm that returna dictionary of occurences of the alphabet for a given string.\n",
    "# Test it with the Lorem upsuj\n",
    "#\"Lorem ipsum dolor sit amet, consectetur adipiscing elit, sed do eiusmod tempor incididunt ut labore et dolore magna aliqua. Ut enim ad minim veniam, quis nostrud exercitation ullamco laboris nisi ut aliquip ex ea commodo consequat. Duis aute irure dolor in reprehenderit in voluptate velit esse cillum dolore eu fugiat nulla pariatur. Excepteur sint occaecat cupidatat non proident, sunt in culpa qui officia deserunt mollit anim id est laborum.\"\n",
    "def occurences(text):\n",
    "    text2=text.lower()\n",
    "    alphabet=\"abcdefghijklmnopqrstuvwxyz\"\n",
    "    dictionnaire={}\n",
    "    for letter in text:\n",
    "        if letter in dictionnaire.keys():\n",
    "            dictionnaire[letter]+=1\n",
    "        else:\n",
    "            dictionnaire[letter]=1\n",
    "    \n",
    "    result={}\n",
    "    for char in alphabet:\n",
    "        if char in dictionnaire.keys():\n",
    "            result[char]=dictionnaire[char]\n",
    "        else:\n",
    "            result[char]=0\n",
    "            \n",
    "    return result\n",
    "\n",
    "loret=\"Lorem ipsum dolor sit amet, consectetur adipiscing elit, sed do eiusmod tempor incididunt ut labore et dolore magna aliqua. Ut enim ad minim veniam, quis nostrud exercitation ullamco laboris nisi ut aliquip ex ea commodo consequat. Duis aute irure dolor in reprehenderit in voluptate velit esse cillum dolore eu fugiat nulla pariatur. Excepteur sint occaecat cupidatat non proident, sunt in culpa qui officia deserunt mollit anim id est laborum.\"\n",
    "occurences(loret)"
   ]
  },
  {
   "cell_type": "code",
   "execution_count": null,
   "metadata": {},
   "outputs": [],
   "source": [
    "#Write a program that maps a list of words into a list of\n",
    "#integers representing the lengths of the correponding words.\n",
    "def length_words(array):\n",
    "    result=[]\n",
    "    for word in array:\n",
    "        result.append(len(word))\n",
    "    return result"
   ]
  },
  {
   "cell_type": "code",
   "execution_count": 2,
   "metadata": {},
   "outputs": [
    {
     "data": {
      "text/plain": [
       "[1, 2, 3, 4, 5]"
      ]
     },
     "execution_count": 2,
     "metadata": {},
     "output_type": "execute_result"
    }
   ],
   "source": [
    "def number2digits(number):\n",
    "    st = str(number)\n",
    "    result=[]\n",
    "    for char in st:\n",
    "        result.append(int(char))\n",
    "    return result\n",
    "x=12345\n",
    "number2digits(x)"
   ]
  },
  {
   "cell_type": "code",
   "execution_count": null,
   "metadata": {},
   "outputs": [],
   "source": [
    "#Write function that translates a text to Pig Latin and back.\n",
    "#English is translated to Pig Latin by taking the first letter of every word,\n",
    "#moving it to the end of the word and adding 'ay'\n",
    "def pigLatin(text):\n",
    "    result=''\n",
    "    for word in text:\n",
    "        result=result+text[1:]+text[0]+'ay'\n",
    "        return result"
   ]
  }
 ],
 "metadata": {
  "kernelspec": {
   "display_name": "Python 3",
   "language": "python",
   "name": "python3"
  },
  "language_info": {
   "codemirror_mode": {
    "name": "ipython",
    "version": 3
   },
   "file_extension": ".py",
   "mimetype": "text/x-python",
   "name": "python",
   "nbconvert_exporter": "python",
   "pygments_lexer": "ipython3",
   "version": "3.6.5"
  }
 },
 "nbformat": 4,
 "nbformat_minor": 2
}
